{
  "nbformat": 4,
  "nbformat_minor": 0,
  "metadata": {
    "colab": {
      "name": "Ejercicios_Practicos.ipynb",
      "provenance": []
    },
    "kernelspec": {
      "name": "python3",
      "display_name": "Python 3"
    },
    "language_info": {
      "name": "python"
    }
  },
  "cells": [
    {
      "cell_type": "markdown",
      "source": [
        "iNtegrantes:\n",
        "Kerin Francisco Melendez Mejia USIS045421\n",
        "Angel Ernesto Aparicio Martines USIS050021"
      ],
      "metadata": {
        "id": "f8rUOTRqVSRM"
      }
    },
    {
      "cell_type": "markdown",
      "source": [
        "Calcular sobre el sueldo las deducciones por ley ISSS (3%), AFP( 6.25%), ISR(Según tabla) e imprima el total deducciones \n",
        "y sueldo neto. (20%)"
      ],
      "metadata": {
        "id": "HwI4TAioQ6cM"
      }
    },
    {
      "cell_type": "code",
      "source": [
        "sueldo=  float(input(\"Ingrese su sueldo: \"))\n",
        "iss=0.03*sueldo\n",
        "afp=0.0625*sueldo\n",
        "sueldoneto= sueldo-(iss+afp)\n",
        "\n",
        "if 0.01 <= sueldoneto <= 472.00:\n",
        "   deduccion = iss+afp\n",
        "   print(f\"Su pago es de: {sueldoneto}\")\n",
        "   print(f\"Sus deduciones son de: {deduccion}\")\n",
        "   print(\"Sin retencion de ISR\")\n",
        "\n",
        "elif 472.01 <= sueldoneto <= 895.24:\n",
        "   renta=0.1\n",
        "   rent = (sueldoneto-472.01)*renta + 17.67\n",
        "   deduccion2 = iss+afp+rent\n",
        "   respuesta2= sueldo-deduccion2\n",
        "   \n",
        "   print(f\"Su pago es de: {respuesta2}\")\n",
        "   print(f\"Sus deduciones son de: {deduccion2}\")\n",
        "   print(f\"Su ISR es de: {rent}\")\n",
        "\n",
        "elif 895.25 <= sueldoneto <= 2038.10:\n",
        "   renta2=0.20\n",
        "   rent = (sueldoneto-895.25)*renta2 + 60.00\n",
        "   deduccion2 = iss+afp+rent\n",
        "   respuesta2= sueldo-deduccion2\n",
        "   \n",
        "   print(f\"Su pago es de: {respuesta2}\")\n",
        "   print(f\"Sus deduciones son de: {deduccion2}\")\n",
        "   print(f\"Su ISR es de: {rent}\")\n",
        "\n",
        "elif 2038.11 <= sueldoneto:\n",
        "   renta3=0.3\n",
        "   rent = (sueldoneto-2038.11)*renta3 + 288.57\n",
        "   deduccion2 = iss+afp+rent\n",
        "   respuesta2= sueldo-deduccion2\n",
        "   \n",
        "   print(f\"Su pago es de: {respuesta2}\")\n",
        "   print(f\"Sus deduciones son de: {deduccion2}\")\n",
        "   print(f\"Su ISR es de: {rent}\")\n",
        "else:\n",
        "  print(\"Ingrese un sueldo valido\")"
      ],
      "metadata": {
        "colab": {
          "base_uri": "https://localhost:8080/"
        },
        "id": "dSUWayGbQzYJ",
        "outputId": "ab26cede-1dcb-4c3a-dfef-add71e88ba87"
      },
      "execution_count": 14,
      "outputs": [
        {
          "output_type": "stream",
          "name": "stdout",
          "text": [
            "Ingrese su sueldo: 500\n",
            "Su pago es de: 453.75\n",
            "Sus deduciones son de: 46.25\n",
            "Sin retencion de ISR\n"
          ]
        }
      ]
    },
    {
      "cell_type": "code",
      "source": [
        "sueldo = float(input(\"Sueldo: \"))\n",
        "isss = sueldo*0.03\n",
        "afp = sueldo*0.0625\n",
        "sueldoNeto = sueldo-(isss+afp)\n",
        "impSr = 0\n",
        "\n",
        "tablaIsr = [\n",
        "            [0.01,472,0,0],\n",
        "            [472.01,895.24,0.1,17.67],\n",
        "            [895.25, 2038.10, 0.2, 60],\n",
        "            [2038.11,99999,0.30,288.57]\n",
        "]\n",
        "for isr in tablaIsr:\n",
        "  if sueldoNeto>isr[0] and sueldoNeto<=isr[1]:\n",
        "    impSr=(sueldoNeto-isr[0])*isr[2] + isr[3]\n",
        "print(\"Total deducciones\", (isss+afp+impSr), \"Sueldo Neto: \", sueldoNeto-impSr)"
      ],
      "metadata": {
        "colab": {
          "base_uri": "https://localhost:8080/"
        },
        "id": "rsBC7fZpRfcA",
        "outputId": "493595d0-7c47-4cd8-e2cc-6b0e77d110f8"
      },
      "execution_count": 15,
      "outputs": [
        {
          "output_type": "stream",
          "name": "stdout",
          "text": [
            "Sueldo: 500\n",
            "Total deducciones 46.25 Sueldo Neto:  453.75\n"
          ]
        }
      ]
    },
    {
      "cell_type": "markdown",
      "source": [
        "Calcular el valor a pagar según el número de metros consumidos de agua potable (Ver tabla en la siguiente diapositiva). (20%)"
      ],
      "metadata": {
        "id": "g6r2DvXiRmw7"
      }
    },
    {
      "cell_type": "code",
      "source": [
        "metros = float(input(\"Ingrese los metros consumidos de agua:\"))\n",
        "cuota = 6\n",
        "mt = (28-18)*0.45\n",
        "if 1 <= metros <= 18:\n",
        "   print(f\"Su cuota es de: ${cuota} de sus metros consumidos\")\n",
        "\n",
        "elif 19 <= metros <= 28:\n",
        "   resp = (metros-18)*0.45+cuota\n",
        "   print(f\"Su cuota es de: ${resp} de sus metros consumidos\")\n",
        "elif 29 <= metros:\n",
        "   resp = ((metros-28)*0.65+cuota)+ mt\n",
        "   print(f\"Su cuota es de: ${resp} de sus metros consumidos\")\n",
        "else:\n",
        "  print(\"Ingrese un metodo valido\")"
      ],
      "metadata": {
        "colab": {
          "base_uri": "https://localhost:8080/"
        },
        "id": "TOyi0mQ6RrKy",
        "outputId": "9deca8c0-fd2e-4d1c-8282-549be52f8d1e"
      },
      "execution_count": 12,
      "outputs": [
        {
          "output_type": "stream",
          "name": "stdout",
          "text": [
            "Ingrese los metros consumidos de agua:38\n",
            "Su cuota es de: $17.0 de sus metros consumidos\n"
          ]
        }
      ]
    },
    {
      "cell_type": "markdown",
      "source": [
        "Desarrolle la tabla de meses acumulados a n meses. Si puede encontrar la formula matemática para evitar ciclos. (10%)"
      ],
      "metadata": {
        "id": "yfe_7c4YRzTo"
      }
    },
    {
      "cell_type": "code",
      "source": [
        "mes= int(input(\"Ingrese el mes acumulado: \"))\n",
        "meses= [0,1,2,3,4,5,6,7,8,9]\n",
        "\n",
        "if 1<= mes < 2 :\n",
        "  respuesta = meses[1]+0\n",
        "  print(f\"Los meses acumulados son: {mes}\") \n",
        "elif 2 <= mes < 3:\n",
        "  respuesta = meses[2] + 1\n",
        "  print(f\"Los meses acumulados son: {respuesta}\")\n",
        "elif 3 <= mes <4 :\n",
        "  respuesta = meses[3] + 3\n",
        "  print(f\"Los meses acumulados son: {respuesta}\")\n",
        "elif 4 <= mes < 5:\n",
        "  respuesta = meses[4] + 6\n",
        "  print(f\"Los meses acumulados son: {respuesta}\")\n",
        "elif 5 <= mes <6 :\n",
        "  respuesta = meses[5] + 10\n",
        "  print(f\"Los meses acumulados son: {respuesta}\")\n",
        "elif 6 <= mes < 7:\n",
        "  respuesta = meses[6] + 15\n",
        "  print(f\"Los meses acumulados son: {respuesta}\")\n",
        "elif 7 <= mes <8 :\n",
        "  respuesta = meses[7] + 21\n",
        "  print(f\"Los meses acumulados son: {respuesta}\")\n",
        "elif 8 <= mes < 9:\n",
        "  respuesta = meses[8] + 28\n",
        "  print(f\"Los meses acumulados son: {respuesta}\")\n",
        "elif 9 <= mes < 10 :\n",
        "  respuesta = meses[9] + 36\n",
        "  print(f\"Los meses acumulados son: {respuesta}\")\n",
        "else:\n",
        "  print(\"ingrese un mes valido del 1 al 9\")"
      ],
      "metadata": {
        "id": "Uzra5kp0R0lS"
      },
      "execution_count": null,
      "outputs": []
    },
    {
      "cell_type": "markdown",
      "source": [
        "Conversores: (40%) (10 ítems como mínimo por cada uno) Monedas (Resuelto en clases) Longitud"
      ],
      "metadata": {
        "id": "tJTzuawRR4KH"
      }
    },
    {
      "cell_type": "code",
      "source": [
        "valores = [\n",
        "           [],\n",
        "           [0, 1, 0.85, 23.8, 35.11, 7.74, 8.75, 621.61,4.07,109.83,73.25], #monedas\n",
        "           [0, 1, 100, 0.001, 1000,0.000621371,1.09361,3.28084,39.3701,0.000539957,1e+6],#Longitud\n",
        "           [0,1,1000,0.001,1e+6,1e+9,0.000984207,0.00110231,0.157473,2.20462,35.274],#Masa\n",
        "           [0,0.25,0.000125,1.25e-7,1.25e-10,1.25e-13,1.25e-16,1.25e-19,1.25e-22,1.25e-25],#Almacenamiento\n",
        "           [0,1,60,60000,6e+7,6e+10,0.0166666667,0.000694444,9.92063e-5,2.28311e-5,1.9026e-6],#Tiempo\n",
        "           [0,1,0.001,0.219969,0.879877,1.75975,3.51951,35.1951,56.3121,0.0353147,61.0237],#Volumen\n",
        "           [0,1e-6,3.861e-7,1.19599,10.7639,1550,1e-4,0.000247105,1000000 ]#Area\n",
        "]\n",
        "etiquetas = [\n",
        "           [],\n",
        "           [\"1. Dolar\", \"2. Euro\", \"3. Lempira\",\"4. Cordobas\", \"5. Quetzalez\", \"6. Colon SV\", \"7. Colon CR\",\"8. Sol Peruano\",\"9. Yen Japones\",\"10. Rublo Ruso\"],\n",
        "           [\"1. Metro\", \"2. Centimetro\", \"3. Kilometro\",\"4. Milimetro\", \"5. Milla\", \"6. Yarda\",\"7. Pie\",\"8. Pulgada\",\"9. Milla Nautica\",\"10. Micrometro\"],\n",
        "           [\"1. Kilogramo\",\"2. Gramo\",\"3. Tonelada\",\"4. Miligramo\",\"5. Microgramo\", \"6. Tonelada larga\",\"7. Tonelada corta\",\"8. Stone\", \"9. Libra\", \"10. Onza\"],\n",
        "           [\"1. Bit\",\"2. Byte\", \"3. Kilobyte\", \"4. Megabyte\", \"5. Gigabyte\", \"6. Terabyte\", \"7. Petabyte\", \"8. Exabyte\", \"9. Zettabyte\", \"10. Yottabyte\"],\n",
        "           [\"1. Minuto\", \"2. Segundo\",\"3. Milisegundo\",\"4.Microsegundo\",\"5. Nanosegundo\",\"6. Hora\",\"7. Dia\",\"8. Semana\",\"9. Mes\",\"10. año\"],\n",
        "           [\"1. Litro\",\"2. Metro Cubico\",\"3. Galon imperia\",\"4. Cuarto imperial\",\"5. Pinta imperial\",\"6. Taza imperial\",\"7. Onza liquida imperial\",\"8. Cucharada imperial\",\"9. Pie cubico\",\"10. Pulgada cubica\" ],\n",
        "           [\"1. Metro cuadrado\",\"2. Kilometro cuadrado\",\"3. Milla cuadrada\",\"5. Yarda cuadrada\",\"6. Pie cuadrado\",\"7. Pulgada cuadrada\",\"8. Hectarea\",\"9. Acre\",\"Milimetros cuadrados\"]\n",
        "]\n",
        "def convertir(conversor, de, a, cantidad):\n",
        "  return valores[conversor][a]/valores[conversor][de] * cantidad\n",
        "\n",
        "print(\"*** MENU ***\")\n",
        "print(\"* 1. Monedas\")\n",
        "print(\"* 2. Longitud\")\n",
        "print(\"* 3. Masa\")\n",
        "print(\"* 4. Almacenamiento\")\n",
        "print(\"* 5. Tiempo\")\n",
        "print(\"* 6. Volumen\")\n",
        "print(\"* 7. Area\")\n",
        "conversor = int(input(\"Conversor: \"))\n",
        "\n",
        "print( etiquetas[conversor] )\n",
        "\n",
        "de = int(input(\"DE: \"))\n",
        "a = int(input(\"A: \"))\n",
        "cantidad = float(input(\"Cant: \"))\n",
        "\n",
        "print(\"Respuesta: \", convertir(conversor, de, a, cantidad) )"
      ],
      "metadata": {
        "colab": {
          "base_uri": "https://localhost:8080/"
        },
        "id": "eN9QBpQ8SUq_",
        "outputId": "b68feac0-b807-4c2c-cf46-1598dd37c22c"
      },
      "execution_count": 5,
      "outputs": [
        {
          "output_type": "stream",
          "name": "stdout",
          "text": [
            "*** MENU ***\n",
            "* 1. Monedas\n",
            "* 2. Longitud\n",
            "* 3. Masa\n",
            "* 4. Almacenamiento\n",
            "* 5. Tiempo\n",
            "* 6. Volumen\n",
            "* 7. Area\n",
            "Conversor: 1\n",
            "['1. Dolar', '2. Euro', '3. Lempira', '4. Cordobas', '5. Quetzalez', '6. Colon SV', '7. Colon CR', '8. Sol Peruano', '9. Yen Japones', '10. Rublo Ruso']\n",
            "DE: 1\n",
            "A: 5\n",
            "Cant: 50\n",
            "Respuesta:  387.0\n"
          ]
        }
      ]
    },
    {
      "cell_type": "markdown",
      "source": [
        "• Realizar un conversor propio, donde espesifique el valor de conversión: (10%) • 1 caja -> 25 unidad. Viceversa 80 unidades – 3/5 -> cajas/unidades • 1 saco -> 50 libras. Viceversa 130 libras – 2/30 -> sacos/libras • 1 fardo -> 5 unidades. Viceversa 28 unidades – 5/3 -> fardos/unidades"
      ],
      "metadata": {
        "id": "9aS0jcx0Tfwg"
      }
    },
    {
      "cell_type": "code",
      "source": [
        "print(\"***MENÚ*** \\n¿QUÉ CONVERSIÓN DESEA REALIZAR? \\n1. Cajas a Unidades \\n2. Unidades a Cajas \\n3. Saco a Libras \\n4. Libras a Saco \\n5. Fardos a Unidades \\n6. Unidades a Fardos\")\n",
        "\n",
        "\n",
        "\n",
        "print(\"\")\n",
        "\n",
        "conversor = int(input(\"Elija un número para realizar la conversión: \"))\n",
        "\n",
        "if conversor == 1 :\n",
        "    print(\"\")\n",
        "    print(\"Convertir Cajas a Unidades:\")\n",
        "    C = float(input(\"Ingrese las Cajas: \"))\n",
        "    u = (C * 25)/1\n",
        "    print(C,\"Cajas a Unidad/es son: \" , u)\n",
        "\n",
        "elif conversor == 2 :\n",
        "    print(\"\")\n",
        "    print(\"Convertir Unidades a Cajas:\")\n",
        "    U = float(input(\"Ingrese las Unidades: \"))\n",
        "    c = (U * 1)/25\n",
        "    print(U,\"unidades a caja/s son: \" , c)\n",
        "\n",
        "elif conversor == 3 :\n",
        "    print(\"\")\n",
        "    print(\"Convertir Saco a Libras:\")\n",
        "    S = float(input(\"Ingrese los Sacos: \"))\n",
        "    l = (S * 50)/1\n",
        "    print(S,\"Saco a Libra/s son: \" , l)\n",
        "\n",
        "elif conversor == 4 :\n",
        "    print(\"\")\n",
        "    print(\"Convertir Libras a Sacos:\")\n",
        "    L = float(input(\"Ingrese las libras: \"))\n",
        "    s = (L * 1)/50\n",
        "    print(L,\"Libra/s a Saco/s son: \" , s)\n",
        "elif conversor == 5 :\n",
        "    print(\"\")\n",
        "    print(\"Convertir Fardos a Unidades:\")\n",
        "    F = float(input(\"Ingrese los Fardos: \"))\n",
        "    uni = (F * 5)/1\n",
        "    print(F,\"Fardo/s a Unidad/es son: \" , uni)\n",
        "elif conversor == 6 :\n",
        "    print(\"\")\n",
        "    print(\"Convertir Unidades a Fardos:\")\n",
        "    UNI = float(input(\"Ingrese las Unidades: \"))\n",
        "    f = (UNI * 1)/5\n",
        "    print(UNI,\"Unidad/es a Fardo/s son: \" , f)\n",
        "else :\n",
        "    print(\"ERROR!!!\")"
      ],
      "metadata": {
        "colab": {
          "base_uri": "https://localhost:8080/"
        },
        "id": "anpYPgxSThgs",
        "outputId": "70edbd20-518b-4512-b8c3-2db6d38bce0a"
      },
      "execution_count": 16,
      "outputs": [
        {
          "output_type": "stream",
          "name": "stdout",
          "text": [
            "***MENÚ*** \n",
            "¿QUÉ CONVERSIÓN DESEA REALIZAR? \n",
            "1. Cajas a Unidades \n",
            "2. Unidades a Cajas \n",
            "3. Saco a Libras \n",
            "4. Libras a Saco \n",
            "5. Fardos a Unidades \n",
            "6. Unidades a Fardos\n",
            "\n",
            "Elija un número para realizar la conversión: 4\n",
            "\n",
            "Convertir Libras a Sacos:\n",
            "Ingrese las libras: 20\n",
            "20.0 Libra/s a Saco/s son:  0.4\n"
          ]
        }
      ]
    }
  ]
}